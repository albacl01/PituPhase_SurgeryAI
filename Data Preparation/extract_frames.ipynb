{
 "cells": [
  {
   "cell_type": "markdown",
   "id": "1886bb77",
   "metadata": {},
   "source": [
    "# Extract Frames from surgical videos at 1 fps\n",
    "\n",
    "This script processes a list of patient directories (e.g. '10XX'), each containing multiple video segments (.mp4) representing parts of the same surgical procedure.\n",
    "\n",
    "For each video, it extracts frames at 1 fps using ffmpeg and stores the output\n",
    "in a structured subdirectory inside each patient's folder:\n",
    "Patients/{patient_id}/frames/{video_segment}/frame.png\n",
    "\n",
    "(e.g. /Patients/1001/frames/1001_01/1001_01_001.png)\n",
    "\n",
    "Each frame is resized to 456x256 and saved as .png."
   ]
  },
  {
   "cell_type": "code",
   "execution_count": null,
   "id": "636f7d70",
   "metadata": {},
   "outputs": [],
   "source": [
    "import os\n",
    "import subprocess\n",
    "import shutil\n"
   ]
  },
  {
   "cell_type": "code",
   "execution_count": null,
   "id": "0ccc84b1",
   "metadata": {},
   "outputs": [],
   "source": [
    "# Base directory containing patient folders\n",
    "base_dir = \"/home/Patients/\"\n",
    "\n",
    "# List of patient IDs to process\n",
    "patient_list = [name for name in os.listdir(base_dir)\n",
    "                if os.path.isdir(os.path.join(base_dir, name)) and name.isdigit()]\n",
    "\n",
    "# Process each patient folder\n",
    "for patient_id in patient_list:\n",
    "    patient_video_dir = os.path.join(base_dir, patient_id)\n",
    "    output_base_dir = os.path.join(patient_video_dir, \"frames\")\n",
    "    os.makedirs(output_base_dir, exist_ok=True)\n",
    "\n",
    "    # Iterate through all video files in the patient's folder\n",
    "    for video_file in os.listdir(patient_video_dir):\n",
    "        if video_file.endswith(\".mp4\"):\n",
    "            video_path = os.path.join(patient_video_dir, video_file)\n",
    "            video_name = os.path.splitext(video_file)[0]\n",
    "            frame_output_dir = os.path.join(output_base_dir, video_name)\n",
    "            os.makedirs(frame_output_dir, exist_ok=True)\n",
    "\n",
    "            # Use ffmpeg to extract 1 frame per second, resized to 456x256\n",
    "            command = [\n",
    "                \"ffmpeg\",\n",
    "                \"-i\", video_path,\n",
    "                \"-vf\", \"fps=1,scale=456:256\",\n",
    "                os.path.join(frame_output_dir, f\"{video_name}_%04d.png\")\n",
    "            ]\n",
    "            subprocess.run(command)\n",
    "\n",
    "    print(f\"Frame extraction completed for patient {patient_id}\")"
   ]
  },
  {
   "cell_type": "code",
   "execution_count": null,
   "id": "8657b034",
   "metadata": {},
   "outputs": [],
   "source": [
    "# Source directory containing patient folders\n",
    "source_dir = '/home/Patients'\n",
    "\n",
    "# Destination directory for all frames\n",
    "destination_dir = '/home/images'\n",
    "\n",
    "# Create the destination directory if it doesn't exist\n",
    "os.makedirs(destination_dir, exist_ok=True)\n",
    "\n",
    "# Iterate through each patient folder in the source directory\n",
    "for patient_folder in os.listdir(source_dir):\n",
    "    patient_path = os.path.join(source_dir, patient_folder)\n",
    "    \n",
    "    # Check that the path is a directory\n",
    "    if os.path.isdir(patient_path):\n",
    "        \n",
    "        # Locate the 'frames' subfolder within the patient folder\n",
    "        frames_folder = os.path.join(patient_path, 'frames')\n",
    "        \n",
    "        if os.path.isdir(frames_folder):\n",
    "            # Iterate through each video-specific frame folder\n",
    "            for frame_folder in os.listdir(frames_folder):\n",
    "                frame_folder_path = os.path.join(frames_folder, frame_folder)\n",
    "                \n",
    "                # Ensure this is a directory containing image files\n",
    "                if os.path.isdir(frame_folder_path):\n",
    "                    for image_file in os.listdir(frame_folder_path):\n",
    "                        # Full path to the image\n",
    "                        image_path = os.path.join(frame_folder_path, image_file)\n",
    "                        \n",
    "                        # Only copy valid image files\n",
    "                        if image_file.lower().endswith(('.png', '.jpg', '.jpeg')):\n",
    "                            # Define the new path in the destination directory\n",
    "                            new_image_path = os.path.join(destination_dir, image_file)\n",
    "                            \n",
    "                            # Copy the image file to 'image' folder\n",
    "                            shutil.copy(image_path, new_image_path)\n",
    "\n",
    "                            print(f\"Copied {image_file} to {destination_dir}\")"
   ]
  }
 ],
 "metadata": {
  "kernelspec": {
   "display_name": "yolo",
   "language": "python",
   "name": "yolo"
  },
  "language_info": {
   "codemirror_mode": {
    "name": "ipython",
    "version": 3
   },
   "file_extension": ".py",
   "mimetype": "text/x-python",
   "name": "python",
   "nbconvert_exporter": "python",
   "pygments_lexer": "ipython3",
   "version": "3.7.12"
  }
 },
 "nbformat": 4,
 "nbformat_minor": 5
}

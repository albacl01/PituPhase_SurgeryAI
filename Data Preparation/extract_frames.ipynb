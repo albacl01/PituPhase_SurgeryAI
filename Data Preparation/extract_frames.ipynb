{
 "cells": [
  {
   "cell_type": "markdown",
   "id": "1886bb77",
   "metadata": {},
   "source": [
    "# Extract Frames from surgical videos at 1 fps\n",
    "\n",
    "This script processes a list of patient directories (e.g. '10XX'), each containing multiple video segments (.mp4) representing parts of the same surgical procedure.\n",
    "\n",
    "For each video, it extracts frames at 1 fps using ffmpeg and stores the output\n",
    "in a structured subdirectory inside each patient's folder:\n",
    "Patients/{patient_id}/frames/{video_segment}/frame.png\n",
    "\n",
    "(e.g. /Patients/1001/frames/1001_01/1001_01_001.png)\n",
    "\n",
    "Each frame is resized to 456x256 and saved as .png."
   ]
  },
  {
   "cell_type": "code",
   "execution_count": 9,
   "id": "3af7fdc7",
   "metadata": {},
   "outputs": [
    {
     "name": "stdout",
     "output_type": "stream",
     "text": [
      "Extracción de fotogramas completa para el paciente 1072\n",
      "Extracción de fotogramas completa para el paciente 1073\n",
      "Extracción de fotogramas completa para el paciente 1074\n",
      "Extracción de fotogramas completa para el paciente 1075\n",
      "Extracción de fotogramas completa para el paciente 1076\n",
      "Extracción de fotogramas completa para el paciente 1077\n",
      "Extracción de fotogramas completa para el paciente 1078\n",
      "Extracción de fotogramas completa para el paciente 1079\n",
      "Extracción de fotogramas completa para el paciente 1080\n",
      "Extracción de fotogramas completa para el paciente 1081\n",
      "Extracción de fotogramas completa para el paciente 1082\n",
      "Extracción de fotogramas completa para el paciente 1083\n",
      "Extracción de fotogramas completa para el paciente 1084\n",
      "Extracción de fotogramas completa para el paciente 1085\n",
      "Extracción de fotogramas completa para el paciente 1086\n",
      "Extracción de fotogramas completa para el paciente 1087\n"
     ]
    }
   ],
   "source": [
    "import os\n",
    "import subprocess\n",
    "\n",
    "# List of patient IDs to process\n",
    "patient_list = list(range(1003, 1070))\n",
    "\n",
    "# Base directory containing patient folders\n",
    "base_dir = \"/home/Patients/\"\n",
    "\n",
    "# Process each patient folder\n",
    "for patient_id in patient_list:\n",
    "    patient_video_dir = os.path.join(base_dir, str(patient_id))               # Folder containing videos\n",
    "    output_base_dir = os.path.join(patient_video_dir, \"frames\")               # Output root for extracted frames\n",
    "    os.makedirs(output_base_dir, exist_ok=True)\n",
    "\n",
    "    # Iterate through all video files in the patient's folder\n",
    "    for video_file in os.listdir(patient_video_dir):\n",
    "        if video_file.endswith(\".mp4\"):\n",
    "            video_path = os.path.join(patient_video_dir, video_file)\n",
    "            video_name = os.path.splitext(video_file)[0]\n",
    "            frame_output_dir = os.path.join(output_base_dir, video_name)      # Separate folder for each video\n",
    "            os.makedirs(frame_output_dir, exist_ok=True)\n",
    "\n",
    "            # Use ffmpeg to extract 1 frame per second, resized to 456x256\n",
    "            command = [\n",
    "                \"ffmpeg\",\n",
    "                \"-i\", video_path,\n",
    "                \"-vf\", \"fps=1,scale=456:256\",\n",
    "                os.path.join(frame_output_dir, f\"{video_name}_%04d.png\")\n",
    "            ]\n",
    "            subprocess.run(command)\n",
    "\n",
    "    print(f\"Frame extraction completed for patient {patient_id}\")"
   ]
  },
  {
   "cell_type": "code",
   "execution_count": null,
   "id": "8657b034",
   "metadata": {},
   "outputs": [],
   "source": []
  }
 ],
 "metadata": {
  "kernelspec": {
   "display_name": "yolo",
   "language": "python",
   "name": "yolo"
  },
  "language_info": {
   "codemirror_mode": {
    "name": "ipython",
    "version": 3
   },
   "file_extension": ".py",
   "mimetype": "text/x-python",
   "name": "python",
   "nbconvert_exporter": "python",
   "pygments_lexer": "ipython3",
   "version": "3.7.12"
  }
 },
 "nbformat": 4,
 "nbformat_minor": 5
}
